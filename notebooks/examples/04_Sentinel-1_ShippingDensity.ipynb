{
 "cells": [
  {
   "cell_type": "code",
   "execution_count": 1,
   "metadata": {},
   "outputs": [],
   "source": [
    "from pystac_client import Client\n",
    "from odc.stac import load\n",
    "from dask.distributed import Client as DaskClient\n",
    "\n",
    "\n",
    "from planetary_computer import sign_url\n",
    "import numpy as np\n",
    "import warnings\n",
    "import folium"
   ]
  },
  {
   "cell_type": "code",
   "execution_count": 2,
   "metadata": {},
   "outputs": [],
   "source": [
    "# Microsoft Planetary Computer STAC Catalog URL\n",
    "catalog = \"https://planetarycomputer.microsoft.com/api/stac/v1\"\n",
    "\n",
    "# Create a STAC Client\n",
    "client = Client.open(catalog)\n",
    "\n",
    "# Parameters for the query\n",
    "collection = \"sentinel-1-rtc\"\n",
    "datetime = \"2024-01/2024-03\"  # 3 months"
   ]
  },
{
   "cell_type": "markdown",
   "metadata": {},
   "source": [
   "This URL shows where the Sentinel RTC data is available: [LINK](https://planetarycomputer.microsoft.com/explore?c=121.1475%2C14.4895&z=7.79&v=2&d=sentinel-1-rtc&m=Most+recent+-+VV%2C+VH&r=VV%2C+VH+False-color+composite&s=false%3A%3A100%3A%3Atrue&sr=desc&ae=0)"
   ]
  },
  {
   "cell_type": "code",
   "execution_count": 9,
   "metadata": {},
   "outputs": [],
   "source": [
    "# Use a bbox over Singapore Strait\n",
    "bbox = [103.80, 1.10, 104.00, 1.30]\n",
    "# Use a bbox over Manila Bay\n",
    "# bbox = [120.0, 14.2, 121.0, 14.9]"
   ]
  },
  {
   "cell_type": "code",
   "execution_count": null,
   "metadata": {},
   "outputs": [],
   "source": [
    "items = client.search(\n",
    "    collections=[\"sentinel-1-rtc\"],\n",
    "    # intersects=geom,\n",
    "    bbox=bbox,\n",
    "    datetime=datetime\n",
    ").item_collection()\n",
    "\n",
    "print(f\"Found {len(items)} items\")"
   ]
  },
  {
   "cell_type": "code",
   "execution_count": null,
   "metadata": {},
   "outputs": [],
   "source": [
    "data = load(\n",
    "    items,\n",
    "    # geopolygon=geom,\n",
    "    bbox=bbox,\n",
    "    measurements=[\"vv\", \"vh\"],\n",
    "    groupby=\"solar_day\",\n",
    "    chunks={\"x\": 2048, \"y\": 2048},\n",
    "    patch_url=sign_url,\n",
    ")\n",
    "\n",
    "# Convert to decibels\n",
    "data[\"vv_db\"] = 10 * np.log10(data.vv)\n",
    "data[\"vh_db\"] = 10 * np.log10(data.vh)\n",
    "\n",
    "data"
   ]
  },
  {
   "cell_type": "code",
   "execution_count": null,
   "metadata": {},
   "outputs": [],
   "source": [
    "# Supress the RuntimeWarning for log10(0)\n",
    "warnings.filterwarnings(\"ignore\", category=RuntimeWarning)\n",
    "\n",
    "# This step will take about three minutes to process\n",
    "with DaskClient(n_workers=2, threads_per_worker=16) as client:\n",
    "    vv_max = data.vv_db.max(dim=[\"time\"]).compute()\n",
    "    vh_max = data.vh_db.max(dim=[\"time\"]).compute()"
   ]
  },
  {
   "cell_type": "code",
   "execution_count": null,
   "metadata": {},
   "outputs": [],
   "source": [
    "m = folium.Map()\n",
    "\n",
    "vv_max.odc.add_to(m, cmap=\"viridis\", name=\"VV max\")\n",
    "vh_max.odc.add_to(m, cmap=\"viridis\", name=\"VH max\")\n",
    "\n",
    "folium.LayerControl().add_to(m)\n",
    "m.fit_bounds(vv_max.odc.map_bounds())\n",
    "m"
   ]
  }
 ],
 "metadata": {
  "kernelspec": {
   "display_name": "Python 3",
   "language": "python",
   "name": "python3"
  },
  "language_info": {
   "codemirror_mode": {
    "name": "ipython",
    "version": 3
   },
   "file_extension": ".py",
   "mimetype": "text/x-python",
   "name": "python",
   "nbconvert_exporter": "python",
   "pygments_lexer": "ipython3",
   "version": "3.11.9"
  }
 },
 "nbformat": 4,
 "nbformat_minor": 2
}
